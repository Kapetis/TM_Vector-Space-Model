{
 "cells": [
  {
   "cell_type": "markdown",
   "metadata": {},
   "source": [
    "# Text Mining Assignment 1\n",
    "**Spring 2016**\n",
    "\n",
    "Hope McIntyre (hm7zg)"
   ]
  },
  {
   "cell_type": "code",
   "execution_count": 1,
   "metadata": {
    "collapsed": false
   },
   "outputs": [
    {
     "name": "stdout",
     "output_type": "stream",
     "text": [
      "height has been deprecated.\n",
      "\n"
     ]
    }
   ],
   "source": [
    "# Base\n",
    "import numpy as np\n",
    "import pandas as pd\n",
    "import json\n",
    "import re\n",
    "import string\n",
    "from os import listdir\n",
    "import math\n",
    "# Natural Language Processing\n",
    "import nltk\n",
    "from nltk.stem.snowball import EnglishStemmer # load the stemmer module from NLTK\n",
    "# Plotting\n",
    "import matplotlib.pyplot as plt\n",
    "%matplotlib inline\n",
    "# iPython Notebook\n",
    "from IPython.display import display, HTML\n",
    "pd.set_option('display.height', 500)\n",
    "pd.set_option('display.max_rows', 500)"
   ]
  },
  {
   "cell_type": "code",
   "execution_count": 2,
   "metadata": {
    "collapsed": true
   },
   "outputs": [],
   "source": [
    "# Disabling a display warning\n",
    "pd.options.mode.chained_assignment = None"
   ]
  },
  {
   "cell_type": "code",
   "execution_count": null,
   "metadata": {
    "collapsed": true
   },
   "outputs": [],
   "source": [
    "# from TM1_Methods import load_json"
   ]
  },
  {
   "cell_type": "code",
   "execution_count": 3,
   "metadata": {
    "collapsed": false
   },
   "outputs": [
    {
     "name": "stdout",
     "output_type": "stream",
     "text": [
      "/Users/hopeemac/Documents/Education/Classes/UVA MSDS/16S/Text Mining\r\n"
     ]
    }
   ],
   "source": [
    "# Set Working Directory\n",
    "! pwd\n",
    "# ! cd '/Users/hopeemac/Documents/Education/Classes/UVA MSDS/16S/Text Mining'"
   ]
  },
  {
   "cell_type": "code",
   "execution_count": 4,
   "metadata": {
    "collapsed": false
   },
   "outputs": [],
   "source": [
    "# Read in JSON\n",
    "\n",
    "# Get File Names for Test and Train set\n",
    "files_test = listdir('yelp/test')\n",
    "files_train = listdir('yelp/train')"
   ]
  },
  {
   "cell_type": "code",
   "execution_count": 5,
   "metadata": {
    "collapsed": false
   },
   "outputs": [],
   "source": [
    "def load_json(fileList,filePath):\n",
    "    dataDF = pd.DataFrame()\n",
    "    for file in fileList:\n",
    "        #json_data = open(filePath+file, encoding = \"ISO-8859-1\").read()\n",
    "        json_data = open(filePath+file, errors = \"ignore\").read()\n",
    "        data = json.loads(json_data)\n",
    "\n",
    "        # Move Reviews only to DataFrame\n",
    "        dataDF = dataDF.append(pd.DataFrame.from_dict(data['Reviews']))\n",
    "        \n",
    "    return dataDF\n",
    "        # print(len(textDF))\n",
    "        # print(class(textDF))\n",
    "        # Append to Existing DF"
   ]
  },
  {
   "cell_type": "code",
   "execution_count": null,
   "metadata": {
    "collapsed": false
   },
   "outputs": [],
   "source": [
    "dataDF_train = load_json(files_train, 'yelp/train/')\n",
    "\n",
    "text_train = dataDF_train['Content']\n",
    "reviewID_train = dataDF_train['ReviewID']\n",
    "print(\"Num of rows: \",len(text_train))"
   ]
  },
  {
   "cell_type": "code",
   "execution_count": 11,
   "metadata": {
    "collapsed": false
   },
   "outputs": [
    {
     "name": "stdout",
     "output_type": "stream",
     "text": [
      "Num of words: 14298540\n",
      "Num of rows:  19803\n"
     ]
    }
   ],
   "source": [
    "dataDF_test = load_json(files_test, 'yelp/test/')\n",
    "\n",
    "# Extract Only Text Values in PD Series\n",
    "text_test = dataDF_test['Content']\n",
    "reviewID_test = dataDF_test['ReviewID']\n",
    "print(\"Num of rows: \",len(text_test))"
   ]
  },
  {
   "cell_type": "code",
   "execution_count": 12,
   "metadata": {
    "collapsed": true
   },
   "outputs": [],
   "source": [
    "# Load Stopword List\n",
    "stopwords = open('stopwords.txt', 'r').read().split()"
   ]
  },
  {
   "cell_type": "code",
   "execution_count": 13,
   "metadata": {
    "collapsed": true
   },
   "outputs": [],
   "source": [
    "# Get an instance of SnowballStemmer for English\n",
    "stemmer = EnglishStemmer() "
   ]
  },
  {
   "cell_type": "markdown",
   "metadata": {},
   "source": [
    "### 1.1 - 1. Implementation of text normalization module."
   ]
  },
  {
   "cell_type": "code",
   "execution_count": 14,
   "metadata": {
    "collapsed": false
   },
   "outputs": [],
   "source": [
    "def clean_words(text):\n",
    "    tokenizer = nltk.tokenize.treebank.TreebankWordTokenizer()\n",
    "    words = tokenizer.tokenize(text)\n",
    "\n",
    "    # Convert to Lowercase\n",
    "    # words = words.map(str.lower)\n",
    "    cleanWords = [t.lower() for t in words]\n",
    "\n",
    "    # Normalize (remove punctuation)\n",
    "    # punc = string.punctuation\n",
    "    # cleanWords = [t for t in cleanWords if t not in punc]\n",
    "    cleanWords = [re.sub('[^0-9a-z]', \"\", x) for x in cleanWords]\n",
    "    \n",
    "    # Remove Empty Vectors\n",
    "    cleanWords = [x for x in cleanWords if x != '']\n",
    " \n",
    "    # Identify Digits & Convert to Num\n",
    "    cleanWords = [re.sub(\"\\d+\", \"NUM\", x) for x in cleanWords]\n",
    "\n",
    "    # Stem Words\n",
    "    cleanWords = [stemmer.stem(x) for x in cleanWords] # call stemmer to stem the input\n",
    "    \n",
    "    return cleanWords"
   ]
  },
  {
   "cell_type": "code",
   "execution_count": 15,
   "metadata": {
    "collapsed": true
   },
   "outputs": [],
   "source": [
    "tokens_train = [clean_words(i) for i in text_train]"
   ]
  },
  {
   "cell_type": "code",
   "execution_count": null,
   "metadata": {
    "collapsed": true
   },
   "outputs": [],
   "source": [
    "def count_totalWords(textList):\n",
    "    count = 0\n",
    "    for l in textList:\n",
    "        for word in l:\n",
    "            count += 1\n",
    "    return count"
   ]
  },
  {
   "cell_type": "code",
   "execution_count": 16,
   "metadata": {
    "collapsed": false
   },
   "outputs": [
    {
     "name": "stdout",
     "output_type": "stream",
     "text": [
      "Num of words: 4948882\n",
      "Num of rows:  38688\n"
     ]
    }
   ],
   "source": [
    "print(\"Num of words:\" , count_totalWords(tokens_train))\n",
    "print(\"Num of rows: \",len(tokens_train))"
   ]
  },
  {
   "cell_type": "code",
   "execution_count": 17,
   "metadata": {
    "collapsed": true
   },
   "outputs": [],
   "source": [
    "tokens_test = [clean_words(i) for i in text_test]"
   ]
  },
  {
   "cell_type": "code",
   "execution_count": 18,
   "metadata": {
    "collapsed": false
   },
   "outputs": [
    {
     "name": "stdout",
     "output_type": "stream",
     "text": [
      "Num of words: 2667165\n",
      "Num of rows:  19803\n"
     ]
    }
   ],
   "source": [
    "print(\"Num of words:\" , count_totalWords(tokens_test))\n",
    "print(\"Num of rows: \",len(tokens_test))"
   ]
  },
  {
   "cell_type": "code",
   "execution_count": 20,
   "metadata": {
    "collapsed": false
   },
   "outputs": [],
   "source": [
    "# Merge List of Vectors from Train and Test\n",
    "tokens_total = tokens_train + tokens_test\n",
    "# len(cleanText_total)"
   ]
  },
  {
   "cell_type": "code",
   "execution_count": 21,
   "metadata": {
    "collapsed": false
   },
   "outputs": [
    {
     "data": {
      "text/plain": [
       "7616047"
      ]
     },
     "execution_count": 21,
     "metadata": {},
     "output_type": "execute_result"
    }
   ],
   "source": [
    "count_totalWords(tokens_total)"
   ]
  },
  {
   "cell_type": "code",
   "execution_count": null,
   "metadata": {
    "collapsed": false
   },
   "outputs": [],
   "source": [
    "# Clean Corpus = List of Lists of Tokens by Document, Cleaned\n",
    "print(len(clean_corpus))\n",
    "print(clean_corpus[0])"
   ]
  },
  {
   "cell_type": "code",
   "execution_count": 22,
   "metadata": {
    "collapsed": true
   },
   "outputs": [],
   "source": [
    "# Print CSV with Words\n",
    "toBePrinted = pd.Series(tokens_total)\n",
    "toBePrinted.to_csv(\"vocab.csv\")"
   ]
  },
  {
   "cell_type": "markdown",
   "metadata": {},
   "source": [
    "# 1.1 Zipf's Law"
   ]
  },
  {
   "cell_type": "code",
   "execution_count": null,
   "metadata": {
    "collapsed": false
   },
   "outputs": [],
   "source": [
    "# Calculate Total Term Frequency in all Documents"
   ]
  },
  {
   "cell_type": "code",
   "execution_count": 23,
   "metadata": {
    "collapsed": true
   },
   "outputs": [],
   "source": [
    "def term_freq(textList):\n",
    "    TF = {}\n",
    "    for row in textList:\n",
    "        #print(row)\n",
    "        for word in row:\n",
    "            # print(word)\n",
    "            if word in TF:\n",
    "                TF[word] += 1\n",
    "            else:\n",
    "                TF[word] = 1\n",
    "    return TF"
   ]
  },
  {
   "cell_type": "code",
   "execution_count": 48,
   "metadata": {
    "collapsed": false
   },
   "outputs": [],
   "source": [
    "TF_total = term_freq(tokens_total)"
   ]
  },
  {
   "cell_type": "code",
   "execution_count": 49,
   "metadata": {
    "collapsed": false
   },
   "outputs": [
    {
     "data": {
      "text/plain": [
       "79948"
      ]
     },
     "execution_count": 49,
     "metadata": {},
     "output_type": "execute_result"
    }
   ],
   "source": [
    "len(TF_total)"
   ]
  },
  {
   "cell_type": "code",
   "execution_count": 50,
   "metadata": {
    "collapsed": true
   },
   "outputs": [],
   "source": [
    "TTF_DF = pd.DataFrame.from_dict(TF_total, orient = 'index')\n",
    "TTF_DF = TTF_DF.sort(0, ascending = False)\n",
    "TTF_DF.columns = ['TF']"
   ]
  },
  {
   "cell_type": "code",
   "execution_count": 51,
   "metadata": {
    "collapsed": true
   },
   "outputs": [],
   "source": [
    "TTF_DF['Rank'] = range(1, len(TTF_DF) + 1)"
   ]
  },
  {
   "cell_type": "code",
   "execution_count": 217,
   "metadata": {
    "collapsed": true
   },
   "outputs": [],
   "source": [
    "TTF_DF.to_csv(\"TTF.csv\")"
   ]
  },
  {
   "cell_type": "markdown",
   "metadata": {
    "collapsed": true
   },
   "source": [
    "### 2. Zipf's Law Curve (Log-log space, with slope and intercept of the linear interpolation results)"
   ]
  },
  {
   "cell_type": "code",
   "execution_count": 53,
   "metadata": {
    "collapsed": false
   },
   "outputs": [
    {
     "data": {
      "image/png": "[encoded data removed]",
      "text/plain": [
       "<matplotlib.figure.Figure at 0x1117d7860>"
      ]
     },
     "metadata": {},
     "output_type": "display_data"
    }
   ],
   "source": [
    "plt.figure()\n",
    "plt.loglog(TTF_DF['Rank'],TTF_DF['TF'], \n",
    "          color='darkblue', \n",
    "          linewidth = 2)\n",
    "plt.grid(True)\n",
    "plt.title(\"Zipf's Law - Yelp Corpus\")\n",
    "plt.show()"
   ]
  },
  {
   "cell_type": "markdown",
   "metadata": {},
   "source": [
    "# 1.2  Construct a Controlled Vocabulary"
   ]
  },
  {
   "cell_type": "code",
   "execution_count": 29,
   "metadata": {
    "collapsed": false
   },
   "outputs": [
    {
     "name": "stdout",
     "output_type": "stream",
     "text": [
      "Num of words: 4948882\n",
      "Num of rows:  38688\n"
     ]
    }
   ],
   "source": [
    "# Tokenized and Normalized Text from Train Data Set\n",
    "#tokens_train\n",
    "print(\"Num of words:\" , count_totalWords(tokens_train))\n",
    "print(\"Num of rows: \",len(tokens_train))"
   ]
  },
  {
   "cell_type": "code",
   "execution_count": 30,
   "metadata": {
    "collapsed": false
   },
   "outputs": [],
   "source": [
    "def create_bigram(textList):\n",
    "    biGram_all = []\n",
    "    for row in textList:\n",
    "        biGram = []\n",
    "        for i in range(1,len(row)):\n",
    "            #print(i)\n",
    "            #print(row[i-1]+\"-\"+row[i])\n",
    "            biGram.append((row[i-1]+\"-\"+row[i]))\n",
    "        biGram_all.append(biGram)\n",
    "    return biGram_all"
   ]
  },
  {
   "cell_type": "code",
   "execution_count": 31,
   "metadata": {
    "collapsed": false
   },
   "outputs": [],
   "source": [
    "# Create Bigrams\n",
    "bigrams_train = create_bigram(tokens_train)"
   ]
  },
  {
   "cell_type": "code",
   "execution_count": 32,
   "metadata": {
    "collapsed": false
   },
   "outputs": [
    {
     "name": "stdout",
     "output_type": "stream",
     "text": [
      "Num of words: 4910197\n",
      "Num of rows:  38688\n"
     ]
    }
   ],
   "source": [
    "print(\"Num of words:\" , count_totalWords(bigrams_train))\n",
    "print(\"Num of rows: \",len(bigrams_train))"
   ]
  },
  {
   "cell_type": "code",
   "execution_count": 33,
   "metadata": {
    "collapsed": true
   },
   "outputs": [],
   "source": [
    "# Remove Stop Words (From 1-grams)\n",
    "def removeStopwords(text, stopwordList):\n",
    "    newList = [t for t in text if t not in stopwordList]\n",
    "    return newList"
   ]
  },
  {
   "cell_type": "code",
   "execution_count": 34,
   "metadata": {
    "collapsed": true
   },
   "outputs": [],
   "source": [
    "tokensClean_train = [removeStopwords(i, stopwords) for i in tokens_train]"
   ]
  },
  {
   "cell_type": "code",
   "execution_count": 36,
   "metadata": {
    "collapsed": false
   },
   "outputs": [
    {
     "name": "stdout",
     "output_type": "stream",
     "text": [
      "Num of words: 2185850\n",
      "Num of rows:  38688\n"
     ]
    }
   ],
   "source": [
    "print(\"Num of words:\" , count_totalWords(tokensClean_train))\n",
    "print(\"Num of rows: \",len(tokensClean_train))"
   ]
  },
  {
   "cell_type": "code",
   "execution_count": 37,
   "metadata": {
    "collapsed": true
   },
   "outputs": [],
   "source": [
    "# Remove Stop Words (From Bigrams)\n",
    "def removeStopwords_bi(text, stopwordList):\n",
    "    newList = [t for t in text if (t[:t.index(\"-\")] not in stopwordList) & (t[t.index(\"-\")+1:] not in stopwordList)]\n",
    "    return newList"
   ]
  },
  {
   "cell_type": "code",
   "execution_count": 38,
   "metadata": {
    "collapsed": true
   },
   "outputs": [],
   "source": [
    "bigramsClean_train = [removeStopwords_bi(i, stopwords) for i in bigrams_train]"
   ]
  },
  {
   "cell_type": "code",
   "execution_count": 39,
   "metadata": {
    "collapsed": false
   },
   "outputs": [
    {
     "name": "stdout",
     "output_type": "stream",
     "text": [
      "Num of words: 831785\n",
      "Num of rows:  38688\n"
     ]
    }
   ],
   "source": [
    "print(\"Num of words:\" , count_totalWords(bigramsClean_train))\n",
    "print(\"Num of rows: \",len(bigramsClean_train))"
   ]
  },
  {
   "cell_type": "code",
   "execution_count": 43,
   "metadata": {
    "collapsed": false
   },
   "outputs": [],
   "source": [
    "# Add 1-grams and bigrams together\n",
    "ngrams_train = []\n",
    "for i in range(0,len(tokens_train)):\n",
    "    ngrams_train.append(bigramsClean_train[i] + tokensClean_train[i])"
   ]
  },
  {
   "cell_type": "code",
   "execution_count": 58,
   "metadata": {
    "collapsed": false
   },
   "outputs": [
    {
     "name": "stdout",
     "output_type": "stream",
     "text": [
      "Num of words: 3017635\n",
      "Num of rows:  38688\n"
     ]
    }
   ],
   "source": [
    "print(\"Num of words:\" , count_totalWords(ngrams_train))\n",
    "print(\"Num of rows: \",len(ngrams_train))"
   ]
  },
  {
   "cell_type": "code",
   "execution_count": 56,
   "metadata": {
    "collapsed": false
   },
   "outputs": [],
   "source": [
    "# Initial controlled vocabulary (No Std Stopwords)\n",
    "TF_train = term_freq(ngrams_train)"
   ]
  },
  {
   "cell_type": "code",
   "execution_count": 61,
   "metadata": {
    "collapsed": false
   },
   "outputs": [
    {
     "name": "stdout",
     "output_type": "stream",
     "text": [
      "Size of Vocab:  372587\n"
     ]
    }
   ],
   "source": [
    "print(\"Size of Vocab: \",len(TF_train))"
   ]
  },
  {
   "cell_type": "code",
   "execution_count": 62,
   "metadata": {
    "collapsed": false
   },
   "outputs": [],
   "source": [
    "ti = pd.DataFrame.from_dict(TF_train, orient = 'index')\n",
    "ti = ti.sort(0, ascending = False)\n",
    "ti.columns = ['DF']"
   ]
  },
  {
   "cell_type": "code",
   "execution_count": 63,
   "metadata": {
    "collapsed": false
   },
   "outputs": [],
   "source": [
    "ti.to_csv(\"df.csv\")"
   ]
  },
  {
   "cell_type": "code",
   "execution_count": 64,
   "metadata": {
    "collapsed": false
   },
   "outputs": [],
   "source": [
    "# Create TF for Each Doc (Aka Unique Words + Counts)\n",
    "# Creates a Dictionary\n",
    "def create_countVectors(tokens):\n",
    "    doc_TF = {}\n",
    "    for token in tokens:\n",
    "        if token in doc_TF:\n",
    "            doc_TF[token] += 1\n",
    "        else:\n",
    "            doc_TF[token] = 1\n",
    "    return doc_TF"
   ]
  },
  {
   "cell_type": "code",
   "execution_count": 65,
   "metadata": {
    "collapsed": false
   },
   "outputs": [],
   "source": [
    "# Make Dictionary of Dictionaries for Training Set\n",
    "countVectors_train = {}\n",
    "for i in range(0,len(ngrams_train)):\n",
    "    countVectors_train[reviewID_train.iloc[i]] = create_countVectors(ngrams_train[i])\n",
    "    # doc_TF_all['doc0'].keys()"
   ]
  },
  {
   "cell_type": "code",
   "execution_count": 66,
   "metadata": {
    "collapsed": false
   },
   "outputs": [
    {
     "data": {
      "text/plain": [
       "38684"
      ]
     },
     "execution_count": 66,
     "metadata": {},
     "output_type": "execute_result"
    }
   ],
   "source": [
    "len(countVectors_train)"
   ]
  },
  {
   "cell_type": "code",
   "execution_count": null,
   "metadata": {
    "collapsed": true
   },
   "outputs": [],
   "source": [
    "# Create a List of Sets of Unique Words in each Document\n",
    "set_train = [set(x) for x in ngrams_train]"
   ]
  },
  {
   "cell_type": "code",
   "execution_count": 78,
   "metadata": {
    "collapsed": false
   },
   "outputs": [],
   "source": [
    "# Calculate DF in Corpus, Using each Unique Word that appears in the TF Dict\n",
    "# Convert tokens_all to a set by set(list) before running through loop\n",
    "DF_train = {}\n",
    "for term in TF_train.keys():\n",
    "    count = 0\n",
    "    for i in range(0,len(ngrams_train)):\n",
    "        if term in set_train[i]:\n",
    "            count = count + 1\n",
    "    DF_train[term] = count"
   ]
  },
  {
   "cell_type": "code",
   "execution_count": 74,
   "metadata": {
    "collapsed": false
   },
   "outputs": [
    {
     "name": "stdout",
     "output_type": "stream",
     "text": [
      "213\n",
      "160\n"
     ]
    }
   ],
   "source": [
    "# Create a \n",
    "print(len(ngrams_train[1]))\n",
    "print(len(set(ngrams_train[1])))\n",
    "set(ngrams_train[0])\n",
    "set_train = [set(x) for x in ngrams_train]"
   ]
  },
  {
   "cell_type": "code",
   "execution_count": 81,
   "metadata": {
    "collapsed": false
   },
   "outputs": [],
   "source": [
    "DF_DF = pd.DataFrame.from_dict(DF_train, orient = 'index')\n",
    "DF_DF = DF_DF.sort(0, ascending = False)\n",
    "DF_DF.columns = ['DF']"
   ]
  },
  {
   "cell_type": "code",
   "execution_count": 82,
   "metadata": {
    "collapsed": false
   },
   "outputs": [],
   "source": [
    "DF_DF.to_csv(\"df.csv\")"
   ]
  },
  {
   "cell_type": "code",
   "execution_count": 84,
   "metadata": {
    "collapsed": false
   },
   "outputs": [
    {
     "data": {
      "text/plain": [
       "372587"
      ]
     },
     "execution_count": 84,
     "metadata": {},
     "output_type": "execute_result"
    }
   ],
   "source": [
    "len(DF_train)"
   ]
  },
  {
   "cell_type": "markdown",
   "metadata": {},
   "source": [
    "### 1. List of new stopwords specific to restaurant reviews"
   ]
  },
  {
   "cell_type": "code",
   "execution_count": 93,
   "metadata": {
    "collapsed": false
   },
   "outputs": [
    {
     "data": {
      "text/plain": [
       "Index(['nt', 'place', 'good', 'food', 'num', 'great', 'order', 'time', 'tri',\n",
       "       'veri', 'wait', 'realli', 'back', 'servic', 'love', 'friend', 'fri',\n",
       "       'delici', 've', 'sauc', 'restaur', 'onli', 'eat', 'dish', 'tabl',\n",
       "       'becaus', 'make', 'littl', 'menu', 'chees', 'definit', 'tast', 'amaz',\n",
       "       'chicago', 'thing', 'nice', 'pretti', 'peopl', 'seat', 'night',\n",
       "       'perfect', 'recommend', 'flavor', 'drink', 'bar', 'meal', 'price',\n",
       "       'dinner', 'small', 'everyth', 'bit', 'favorit', 'worth', 'alway',\n",
       "       'made', 'enjoy', 'chicken', 'side', 'long', 'experi', 'pizza', 'top',\n",
       "       'fresh', 'befor', 'line', 'star', 'ca', 'serv', 'review', 'ca-nt',\n",
       "       'give', 'lot', 'plate', 'll', 'day', 'atmospher', 'sweet', 'minut',\n",
       "       'ani', 'tasti', 'someth', 'expect', 'sinc', 'staff', 'visit', 'feel',\n",
       "       'special', 'mani', 'everi', 'reserv', 'french', 'lunch', 'awesom',\n",
       "       'hour', 'salad', 'big', 'differ', 'end', 'high', 'excel'],\n",
       "      dtype='object')"
      ]
     },
     "execution_count": 93,
     "metadata": {},
     "output_type": "execute_result"
    }
   ],
   "source": [
    "# Create new Stopword List from Top 100 Terms by DF\n",
    "DF_stopwords = DF_DF[0:100]\n",
    "DF_stopwords.index"
   ]
  },
  {
   "cell_type": "code",
   "execution_count": 94,
   "metadata": {
    "collapsed": false
   },
   "outputs": [],
   "source": [
    "# Remove New DF Stop Words\n",
    "master_train = [removeStopwords(i, DF_stopwords.index) for i in ngrams_train]"
   ]
  },
  {
   "cell_type": "code",
   "execution_count": 95,
   "metadata": {
    "collapsed": false
   },
   "outputs": [
    {
     "data": {
      "text/plain": [
       "38688"
      ]
     },
     "execution_count": 95,
     "metadata": {},
     "output_type": "execute_result"
    }
   ],
   "source": [
    "len(master_train)"
   ]
  },
  {
   "cell_type": "code",
   "execution_count": 101,
   "metadata": {
    "collapsed": false
   },
   "outputs": [],
   "source": [
    "toPrint = pd.DataFrame(master_train)\n",
    "toPrint.to_csv(\"spotCheck.csv\")"
   ]
  },
  {
   "cell_type": "code",
   "execution_count": 87,
   "metadata": {
    "collapsed": true
   },
   "outputs": [],
   "source": [
    "# Filter out the N-grams with DF smaller than 50 instances\n",
    "DF_tailwords = DF_DF[DF_DF['DF'] < 50]"
   ]
  },
  {
   "cell_type": "code",
   "execution_count": 96,
   "metadata": {
    "collapsed": false
   },
   "outputs": [
    {
     "data": {
      "text/plain": [
       "Index(['pretti-close', 'poor-servic', 'musttri', 'rpm-italian', 'david',\n",
       "       'meali', 'date-place', 'definit-check', 'lamp', 'sloppi-goat', \n",
       "       ...\n",
       "       'abund-chang', 'cheap-spot', 'friesseat', 'homemad-tri', 'eager-server',\n",
       "       'combinationfood-asid', 'dog-cocktail', 'major-discont',\n",
       "       'restaurantth-restaur', 'deem-healthi'],\n",
       "      dtype='object', length=368142)"
      ]
     },
     "execution_count": 96,
     "metadata": {},
     "output_type": "execute_result"
    }
   ],
   "source": [
    "DF_tailwords.index"
   ]
  },
  {
   "cell_type": "code",
   "execution_count": 97,
   "metadata": {
    "collapsed": true
   },
   "outputs": [],
   "source": [
    "master_train = [removeStopwords(i, DF_tailwords.index) for i in master_train]"
   ]
  },
  {
   "cell_type": "code",
   "execution_count": 98,
   "metadata": {
    "collapsed": false
   },
   "outputs": [
    {
     "data": {
      "text/plain": [
       "38688"
      ]
     },
     "execution_count": 98,
     "metadata": {},
     "output_type": "execute_result"
    }
   ],
   "source": [
    "len(master_train)"
   ]
  },
  {
   "cell_type": "markdown",
   "metadata": {},
   "source": [
    "### 2. The size of the resulting controlled vocabulary (i.e., total N-grams in it)."
   ]
  },
  {
   "cell_type": "code",
   "execution_count": 104,
   "metadata": {
    "collapsed": false
   },
   "outputs": [
    {
     "name": "stdout",
     "output_type": "stream",
     "text": [
      "Size of Final Controlled Vocabulary:  4345\n"
     ]
    }
   ],
   "source": [
    "# Size of Controlled Vocabulary\n",
    "# Recompute Term Frequency without New Stopwords and Tailwords\n",
    "TF_train = {}\n",
    "TF_train = term_freq(master_train)\n",
    "print(\"Size of Final Controlled Vocabulary: \",len(TF_train))"
   ]
  },
  {
   "cell_type": "markdown",
   "metadata": {},
   "source": [
    "### 3. Top & Bottom 50 N-grams according to DF and their corresponding IDFs"
   ]
  },
  {
   "cell_type": "code",
   "execution_count": 115,
   "metadata": {
    "collapsed": false
   },
   "outputs": [
    {
     "data": {
      "text/plain": [
       "38688"
      ]
     },
     "execution_count": 115,
     "metadata": {},
     "output_type": "execute_result"
    }
   ],
   "source": [
    "n_doc = len(tokens_train)\n",
    "n_doc"
   ]
  },
  {
   "cell_type": "code",
   "execution_count": 106,
   "metadata": {
    "collapsed": true
   },
   "outputs": [],
   "source": [
    "# Create a List of Sets of Unique Words in each Document\n",
    "set_trainF = [set(x) for x in master_train]"
   ]
  },
  {
   "cell_type": "code",
   "execution_count": 107,
   "metadata": {
    "collapsed": false
   },
   "outputs": [],
   "source": [
    "DF_trainF = {}\n",
    "for term in TF_train.keys():\n",
    "    count = 0\n",
    "    for i in range(0,len(master_train)):\n",
    "        if term in set_trainF[i]:\n",
    "            count = count + 1\n",
    "    DF_trainF[term] = count"
   ]
  },
  {
   "cell_type": "code",
   "execution_count": null,
   "metadata": {
    "collapsed": false
   },
   "outputs": [],
   "source": [
    "DF_DF_F = pd.DataFrame.from_dict(DF_trainF, orient = 'index')\n",
    "DF_DF_F = DF_DF_F.sort(0, ascending = False)\n",
    "DF_DF_F.columns = ['DF']"
   ]
  },
  {
   "cell_type": "code",
   "execution_count": 125,
   "metadata": {
    "collapsed": false
   },
   "outputs": [],
   "source": [
    "#calc_IDF()\n",
    "for i in range(0,len(DF_DF_F)):\n",
    "    DF_DF_F['IDF'][i] = 1 + math.log((n_doc/DF_DF_F['DF'][i]))"
   ]
  },
  {
   "cell_type": "code",
   "execution_count": 126,
   "metadata": {
    "collapsed": false
   },
   "outputs": [
    {
     "data": {
      "text/html": [
       "<div>\n",
       "<table border=\"1\" class=\"dataframe\">\n",
       "  <thead>\n",
       "    <tr style=\"text-align: right;\">\n",
       "      <th></th>\n",
       "      <th>DF</th>\n",
       "      <th>IDF</th>\n",
       "    </tr>\n",
       "  </thead>\n",
       "  <tbody>\n",
       "    <tr>\n",
       "      <th>bread</th>\n",
       "      <td>2943</td>\n",
       "      <td>3.576100</td>\n",
       "    </tr>\n",
       "    <tr>\n",
       "      <th>wine</th>\n",
       "      <td>2914</td>\n",
       "      <td>3.586003</td>\n",
       "    </tr>\n",
       "    <tr>\n",
       "      <th>bad</th>\n",
       "      <td>2903</td>\n",
       "      <td>3.589785</td>\n",
       "    </tr>\n",
       "    <tr>\n",
       "      <th>meat</th>\n",
       "      <td>2889</td>\n",
       "      <td>3.594619</td>\n",
       "    </tr>\n",
       "    <tr>\n",
       "      <th>pork</th>\n",
       "      <td>2882</td>\n",
       "      <td>3.597045</td>\n",
       "    </tr>\n",
       "    <tr>\n",
       "      <th>hot</th>\n",
       "      <td>2882</td>\n",
       "      <td>3.597045</td>\n",
       "    </tr>\n",
       "    <tr>\n",
       "      <th>server</th>\n",
       "      <td>2870</td>\n",
       "      <td>3.601217</td>\n",
       "    </tr>\n",
       "    <tr>\n",
       "      <th>probabl</th>\n",
       "      <td>2859</td>\n",
       "      <td>3.605058</td>\n",
       "    </tr>\n",
       "    <tr>\n",
       "      <th>disappoint</th>\n",
       "      <td>2854</td>\n",
       "      <td>3.606808</td>\n",
       "    </tr>\n",
       "    <tr>\n",
       "      <th>share</th>\n",
       "      <td>2816</td>\n",
       "      <td>3.620212</td>\n",
       "    </tr>\n",
       "    <tr>\n",
       "      <th>start</th>\n",
       "      <td>2799</td>\n",
       "      <td>3.626267</td>\n",
       "    </tr>\n",
       "    <tr>\n",
       "      <th>portion</th>\n",
       "      <td>2786</td>\n",
       "      <td>3.630923</td>\n",
       "    </tr>\n",
       "    <tr>\n",
       "      <th>num-minut</th>\n",
       "      <td>2776</td>\n",
       "      <td>3.634518</td>\n",
       "    </tr>\n",
       "    <tr>\n",
       "      <th>anoth</th>\n",
       "      <td>2741</td>\n",
       "      <td>3.647207</td>\n",
       "    </tr>\n",
       "    <tr>\n",
       "      <th>reason</th>\n",
       "      <td>2698</td>\n",
       "      <td>3.663019</td>\n",
       "    </tr>\n",
       "    <tr>\n",
       "      <th>busi</th>\n",
       "      <td>2682</td>\n",
       "      <td>3.668967</td>\n",
       "    </tr>\n",
       "    <tr>\n",
       "      <th>dessert</th>\n",
       "      <td>2663</td>\n",
       "      <td>3.676076</td>\n",
       "    </tr>\n",
       "    <tr>\n",
       "      <th>sit</th>\n",
       "      <td>2659</td>\n",
       "      <td>3.677579</td>\n",
       "    </tr>\n",
       "    <tr>\n",
       "      <th>live</th>\n",
       "      <td>2632</td>\n",
       "      <td>3.687785</td>\n",
       "    </tr>\n",
       "    <tr>\n",
       "      <th>noth</th>\n",
       "      <td>2614</td>\n",
       "      <td>3.694648</td>\n",
       "    </tr>\n",
       "    <tr>\n",
       "      <th>potato</th>\n",
       "      <td>2597</td>\n",
       "      <td>3.701173</td>\n",
       "    </tr>\n",
       "    <tr>\n",
       "      <th>doe</th>\n",
       "      <td>2590</td>\n",
       "      <td>3.703872</td>\n",
       "    </tr>\n",
       "    <tr>\n",
       "      <th>find</th>\n",
       "      <td>2567</td>\n",
       "      <td>3.712792</td>\n",
       "    </tr>\n",
       "    <tr>\n",
       "      <th>burger</th>\n",
       "      <td>2561</td>\n",
       "      <td>3.715132</td>\n",
       "    </tr>\n",
       "    <tr>\n",
       "      <th>crowd</th>\n",
       "      <td>2539</td>\n",
       "      <td>3.723759</td>\n",
       "    </tr>\n",
       "    <tr>\n",
       "      <th>actual</th>\n",
       "      <td>2528</td>\n",
       "      <td>3.728101</td>\n",
       "    </tr>\n",
       "    <tr>\n",
       "      <th>spot</th>\n",
       "      <td>2515</td>\n",
       "      <td>3.733257</td>\n",
       "    </tr>\n",
       "    <tr>\n",
       "      <th>thought</th>\n",
       "      <td>2510</td>\n",
       "      <td>3.735247</td>\n",
       "    </tr>\n",
       "    <tr>\n",
       "      <th>beef</th>\n",
       "      <td>2507</td>\n",
       "      <td>3.736443</td>\n",
       "    </tr>\n",
       "    <tr>\n",
       "      <th>cook</th>\n",
       "      <td>2502</td>\n",
       "      <td>3.738439</td>\n",
       "    </tr>\n",
       "    <tr>\n",
       "      <th>kind</th>\n",
       "      <td>2496</td>\n",
       "      <td>3.740840</td>\n",
       "    </tr>\n",
       "    <tr>\n",
       "      <th>tapa</th>\n",
       "      <td>2418</td>\n",
       "      <td>3.772589</td>\n",
       "    </tr>\n",
       "    <tr>\n",
       "      <th>full</th>\n",
       "      <td>2413</td>\n",
       "      <td>3.774659</td>\n",
       "    </tr>\n",
       "    <tr>\n",
       "      <th>person</th>\n",
       "      <td>2412</td>\n",
       "      <td>3.775073</td>\n",
       "    </tr>\n",
       "    <tr>\n",
       "      <th>dine</th>\n",
       "      <td>2402</td>\n",
       "      <td>3.779228</td>\n",
       "    </tr>\n",
       "    <tr>\n",
       "      <th>walk</th>\n",
       "      <td>2396</td>\n",
       "      <td>3.781729</td>\n",
       "    </tr>\n",
       "    <tr>\n",
       "      <th>group</th>\n",
       "      <td>2369</td>\n",
       "      <td>3.793062</td>\n",
       "    </tr>\n",
       "    <tr>\n",
       "      <th>beer</th>\n",
       "      <td>2363</td>\n",
       "      <td>3.795597</td>\n",
       "    </tr>\n",
       "    <tr>\n",
       "      <th>quit</th>\n",
       "      <td>2352</td>\n",
       "      <td>3.800263</td>\n",
       "    </tr>\n",
       "    <tr>\n",
       "      <th>huge</th>\n",
       "      <td>2351</td>\n",
       "      <td>3.800689</td>\n",
       "    </tr>\n",
       "    <tr>\n",
       "      <th>larg</th>\n",
       "      <td>2322</td>\n",
       "      <td>3.813101</td>\n",
       "    </tr>\n",
       "    <tr>\n",
       "      <th>howev</th>\n",
       "      <td>2314</td>\n",
       "      <td>3.816552</td>\n",
       "    </tr>\n",
       "    <tr>\n",
       "      <th>work</th>\n",
       "      <td>2303</td>\n",
       "      <td>3.821317</td>\n",
       "    </tr>\n",
       "    <tr>\n",
       "      <th>super</th>\n",
       "      <td>2302</td>\n",
       "      <td>3.821751</td>\n",
       "    </tr>\n",
       "    <tr>\n",
       "      <th>bbq</th>\n",
       "      <td>2293</td>\n",
       "      <td>3.825668</td>\n",
       "    </tr>\n",
       "    <tr>\n",
       "      <th>num-star</th>\n",
       "      <td>2279</td>\n",
       "      <td>3.831793</td>\n",
       "    </tr>\n",
       "    <tr>\n",
       "      <th>date</th>\n",
       "      <td>2276</td>\n",
       "      <td>3.833110</td>\n",
       "    </tr>\n",
       "    <tr>\n",
       "      <th>everyon</th>\n",
       "      <td>2265</td>\n",
       "      <td>3.837955</td>\n",
       "    </tr>\n",
       "    <tr>\n",
       "      <th>egg</th>\n",
       "      <td>2261</td>\n",
       "      <td>3.839722</td>\n",
       "    </tr>\n",
       "    <tr>\n",
       "      <th>sandwich</th>\n",
       "      <td>2258</td>\n",
       "      <td>3.841050</td>\n",
       "    </tr>\n",
       "  </tbody>\n",
       "</table>\n",
       "</div>"
      ],
      "text/plain": [
       "              DF       IDF\n",
       "bread       2943  3.576100\n",
       "wine        2914  3.586003\n",
       "bad         2903  3.589785\n",
       "meat        2889  3.594619\n",
       "pork        2882  3.597045\n",
       "hot         2882  3.597045\n",
       "server      2870  3.601217\n",
       "probabl     2859  3.605058\n",
       "disappoint  2854  3.606808\n",
       "share       2816  3.620212\n",
       "start       2799  3.626267\n",
       "portion     2786  3.630923\n",
       "num-minut   2776  3.634518\n",
       "anoth       2741  3.647207\n",
       "reason      2698  3.663019\n",
       "busi        2682  3.668967\n",
       "dessert     2663  3.676076\n",
       "sit         2659  3.677579\n",
       "live        2632  3.687785\n",
       "noth        2614  3.694648\n",
       "potato      2597  3.701173\n",
       "doe         2590  3.703872\n",
       "find        2567  3.712792\n",
       "burger      2561  3.715132\n",
       "crowd       2539  3.723759\n",
       "actual      2528  3.728101\n",
       "spot        2515  3.733257\n",
       "thought     2510  3.735247\n",
       "beef        2507  3.736443\n",
       "cook        2502  3.738439\n",
       "kind        2496  3.740840\n",
       "tapa        2418  3.772589\n",
       "full        2413  3.774659\n",
       "person      2412  3.775073\n",
       "dine        2402  3.779228\n",
       "walk        2396  3.781729\n",
       "group       2369  3.793062\n",
       "beer        2363  3.795597\n",
       "quit        2352  3.800263\n",
       "huge        2351  3.800689\n",
       "larg        2322  3.813101\n",
       "howev       2314  3.816552\n",
       "work        2303  3.821317\n",
       "super       2302  3.821751\n",
       "bbq         2293  3.825668\n",
       "num-star    2279  3.831793\n",
       "date        2276  3.833110\n",
       "everyon     2265  3.837955\n",
       "egg         2261  3.839722\n",
       "sandwich    2258  3.841050"
      ]
     },
     "execution_count": 126,
     "metadata": {},
     "output_type": "execute_result"
    }
   ],
   "source": [
    "# Top 50 Words by DF\n",
    "DF_DF_F[0:50]"
   ]
  },
  {
   "cell_type": "code",
   "execution_count": 128,
   "metadata": {
    "collapsed": false
   },
   "outputs": [
    {
     "data": {
      "text/html": [
       "<div>\n",
       "<table border=\"1\" class=\"dataframe\">\n",
       "  <thead>\n",
       "    <tr style=\"text-align: right;\">\n",
       "      <th></th>\n",
       "      <th>DF</th>\n",
       "      <th>IDF</th>\n",
       "    </tr>\n",
       "  </thead>\n",
       "  <tbody>\n",
       "    <tr>\n",
       "      <th>style-deep</th>\n",
       "      <td>50</td>\n",
       "      <td>7.651262</td>\n",
       "    </tr>\n",
       "    <tr>\n",
       "      <th>eat-everyth</th>\n",
       "      <td>50</td>\n",
       "      <td>7.651262</td>\n",
       "    </tr>\n",
       "    <tr>\n",
       "      <th>num-top</th>\n",
       "      <td>50</td>\n",
       "      <td>7.651262</td>\n",
       "    </tr>\n",
       "    <tr>\n",
       "      <th>final-seat</th>\n",
       "      <td>50</td>\n",
       "      <td>7.651262</td>\n",
       "    </tr>\n",
       "    <tr>\n",
       "      <th>journey</th>\n",
       "      <td>50</td>\n",
       "      <td>7.651262</td>\n",
       "    </tr>\n",
       "    <tr>\n",
       "      <th>beard</th>\n",
       "      <td>50</td>\n",
       "      <td>7.651262</td>\n",
       "    </tr>\n",
       "    <tr>\n",
       "      <th>sound-good</th>\n",
       "      <td>50</td>\n",
       "      <td>7.651262</td>\n",
       "    </tr>\n",
       "    <tr>\n",
       "      <th>border</th>\n",
       "      <td>50</td>\n",
       "      <td>7.651262</td>\n",
       "    </tr>\n",
       "    <tr>\n",
       "      <th>fantast-servic</th>\n",
       "      <td>50</td>\n",
       "      <td>7.651262</td>\n",
       "    </tr>\n",
       "    <tr>\n",
       "      <th>num-price</th>\n",
       "      <td>50</td>\n",
       "      <td>7.651262</td>\n",
       "    </tr>\n",
       "    <tr>\n",
       "      <th>fresh-fri</th>\n",
       "      <td>50</td>\n",
       "      <td>7.651262</td>\n",
       "    </tr>\n",
       "    <tr>\n",
       "      <th>page</th>\n",
       "      <td>50</td>\n",
       "      <td>7.651262</td>\n",
       "    </tr>\n",
       "    <tr>\n",
       "      <th>frost</th>\n",
       "      <td>50</td>\n",
       "      <td>7.651262</td>\n",
       "    </tr>\n",
       "    <tr>\n",
       "      <th>great-friend</th>\n",
       "      <td>50</td>\n",
       "      <td>7.651262</td>\n",
       "    </tr>\n",
       "    <tr>\n",
       "      <th>univers</th>\n",
       "      <td>50</td>\n",
       "      <td>7.651262</td>\n",
       "    </tr>\n",
       "    <tr>\n",
       "      <th>church</th>\n",
       "      <td>50</td>\n",
       "      <td>7.651262</td>\n",
       "    </tr>\n",
       "    <tr>\n",
       "      <th>sushisashimi</th>\n",
       "      <td>50</td>\n",
       "      <td>7.651262</td>\n",
       "    </tr>\n",
       "    <tr>\n",
       "      <th>bean-burger</th>\n",
       "      <td>50</td>\n",
       "      <td>7.651262</td>\n",
       "    </tr>\n",
       "    <tr>\n",
       "      <th>short-wait</th>\n",
       "      <td>50</td>\n",
       "      <td>7.651262</td>\n",
       "    </tr>\n",
       "    <tr>\n",
       "      <th>sever-year</th>\n",
       "      <td>50</td>\n",
       "      <td>7.651262</td>\n",
       "    </tr>\n",
       "    <tr>\n",
       "      <th>flair</th>\n",
       "      <td>50</td>\n",
       "      <td>7.651262</td>\n",
       "    </tr>\n",
       "    <tr>\n",
       "      <th>abil</th>\n",
       "      <td>50</td>\n",
       "      <td>7.651262</td>\n",
       "    </tr>\n",
       "    <tr>\n",
       "      <th>restaur-becaus</th>\n",
       "      <td>50</td>\n",
       "      <td>7.651262</td>\n",
       "    </tr>\n",
       "    <tr>\n",
       "      <th>side-salad</th>\n",
       "      <td>50</td>\n",
       "      <td>7.651262</td>\n",
       "    </tr>\n",
       "    <tr>\n",
       "      <th>relationship</th>\n",
       "      <td>50</td>\n",
       "      <td>7.651262</td>\n",
       "    </tr>\n",
       "    <tr>\n",
       "      <th>menu-option</th>\n",
       "      <td>50</td>\n",
       "      <td>7.651262</td>\n",
       "    </tr>\n",
       "    <tr>\n",
       "      <th>boast</th>\n",
       "      <td>50</td>\n",
       "      <td>7.651262</td>\n",
       "    </tr>\n",
       "    <tr>\n",
       "      <th>observ</th>\n",
       "      <td>50</td>\n",
       "      <td>7.651262</td>\n",
       "    </tr>\n",
       "    <tr>\n",
       "      <th>turnov</th>\n",
       "      <td>50</td>\n",
       "      <td>7.651262</td>\n",
       "    </tr>\n",
       "    <tr>\n",
       "      <th>peev</th>\n",
       "      <td>50</td>\n",
       "      <td>7.651262</td>\n",
       "    </tr>\n",
       "    <tr>\n",
       "      <th>spicier</th>\n",
       "      <td>50</td>\n",
       "      <td>7.651262</td>\n",
       "    </tr>\n",
       "    <tr>\n",
       "      <th>pizza-hut</th>\n",
       "      <td>50</td>\n",
       "      <td>7.651262</td>\n",
       "    </tr>\n",
       "    <tr>\n",
       "      <th>disclaim</th>\n",
       "      <td>50</td>\n",
       "      <td>7.651262</td>\n",
       "    </tr>\n",
       "    <tr>\n",
       "      <th>januari</th>\n",
       "      <td>50</td>\n",
       "      <td>7.651262</td>\n",
       "    </tr>\n",
       "    <tr>\n",
       "      <th>plethora</th>\n",
       "      <td>50</td>\n",
       "      <td>7.651262</td>\n",
       "    </tr>\n",
       "    <tr>\n",
       "      <th>tang</th>\n",
       "      <td>50</td>\n",
       "      <td>7.651262</td>\n",
       "    </tr>\n",
       "    <tr>\n",
       "      <th>aliv</th>\n",
       "      <td>50</td>\n",
       "      <td>7.651262</td>\n",
       "    </tr>\n",
       "    <tr>\n",
       "      <th>side-order</th>\n",
       "      <td>50</td>\n",
       "      <td>7.651262</td>\n",
       "    </tr>\n",
       "    <tr>\n",
       "      <th>seed-bun</th>\n",
       "      <td>50</td>\n",
       "      <td>7.651262</td>\n",
       "    </tr>\n",
       "    <tr>\n",
       "      <th>veri-authent</th>\n",
       "      <td>50</td>\n",
       "      <td>7.651262</td>\n",
       "    </tr>\n",
       "    <tr>\n",
       "      <th>teriyaki-mayo</th>\n",
       "      <td>50</td>\n",
       "      <td>7.651262</td>\n",
       "    </tr>\n",
       "    <tr>\n",
       "      <th>honda</th>\n",
       "      <td>50</td>\n",
       "      <td>7.651262</td>\n",
       "    </tr>\n",
       "    <tr>\n",
       "      <th>munchi</th>\n",
       "      <td>50</td>\n",
       "      <td>7.651262</td>\n",
       "    </tr>\n",
       "    <tr>\n",
       "      <th>liter-melt</th>\n",
       "      <td>50</td>\n",
       "      <td>7.651262</td>\n",
       "    </tr>\n",
       "    <tr>\n",
       "      <th>uniform</th>\n",
       "      <td>50</td>\n",
       "      <td>7.651262</td>\n",
       "    </tr>\n",
       "    <tr>\n",
       "      <th>boudin-ball</th>\n",
       "      <td>50</td>\n",
       "      <td>7.651262</td>\n",
       "    </tr>\n",
       "    <tr>\n",
       "      <th>west-loop</th>\n",
       "      <td>50</td>\n",
       "      <td>7.651262</td>\n",
       "    </tr>\n",
       "    <tr>\n",
       "      <th>wait-becaus</th>\n",
       "      <td>50</td>\n",
       "      <td>7.651262</td>\n",
       "    </tr>\n",
       "    <tr>\n",
       "      <th>lunch-spot</th>\n",
       "      <td>50</td>\n",
       "      <td>7.651262</td>\n",
       "    </tr>\n",
       "    <tr>\n",
       "      <th>favorit-food</th>\n",
       "      <td>50</td>\n",
       "      <td>7.651262</td>\n",
       "    </tr>\n",
       "  </tbody>\n",
       "</table>\n",
       "</div>"
      ],
      "text/plain": [
       "                DF       IDF\n",
       "style-deep      50  7.651262\n",
       "eat-everyth     50  7.651262\n",
       "num-top         50  7.651262\n",
       "final-seat      50  7.651262\n",
       "journey         50  7.651262\n",
       "beard           50  7.651262\n",
       "sound-good      50  7.651262\n",
       "border          50  7.651262\n",
       "fantast-servic  50  7.651262\n",
       "num-price       50  7.651262\n",
       "fresh-fri       50  7.651262\n",
       "page            50  7.651262\n",
       "frost           50  7.651262\n",
       "great-friend    50  7.651262\n",
       "univers         50  7.651262\n",
       "church          50  7.651262\n",
       "sushisashimi    50  7.651262\n",
       "bean-burger     50  7.651262\n",
       "short-wait      50  7.651262\n",
       "sever-year      50  7.651262\n",
       "flair           50  7.651262\n",
       "abil            50  7.651262\n",
       "restaur-becaus  50  7.651262\n",
       "side-salad      50  7.651262\n",
       "relationship    50  7.651262\n",
       "menu-option     50  7.651262\n",
       "boast           50  7.651262\n",
       "observ          50  7.651262\n",
       "turnov          50  7.651262\n",
       "peev            50  7.651262\n",
       "spicier         50  7.651262\n",
       "pizza-hut       50  7.651262\n",
       "disclaim        50  7.651262\n",
       "januari         50  7.651262\n",
       "plethora        50  7.651262\n",
       "tang            50  7.651262\n",
       "aliv            50  7.651262\n",
       "side-order      50  7.651262\n",
       "seed-bun        50  7.651262\n",
       "veri-authent    50  7.651262\n",
       "teriyaki-mayo   50  7.651262\n",
       "honda           50  7.651262\n",
       "munchi          50  7.651262\n",
       "liter-melt      50  7.651262\n",
       "uniform         50  7.651262\n",
       "boudin-ball     50  7.651262\n",
       "west-loop       50  7.651262\n",
       "wait-becaus     50  7.651262\n",
       "lunch-spot      50  7.651262\n",
       "favorit-food    50  7.651262"
      ]
     },
     "execution_count": 128,
     "metadata": {},
     "output_type": "execute_result"
    }
   ],
   "source": [
    "# Top 50 Words by DF\n",
    "DF_DF_F[(len(DF_DF_F)-50):len(DF_DF_F)]"
   ]
  },
  {
   "cell_type": "markdown",
   "metadata": {},
   "source": [
    "# 1.3 Compute Similarity Between Documents"
   ]
  },
  {
   "cell_type": "code",
   "execution_count": 129,
   "metadata": {
    "collapsed": false
   },
   "outputs": [],
   "source": [
    "# Read in Validation Data Set - Query.Json\n",
    "data_val = load_json(['query.json'],'yelp/')"
   ]
  },
  {
   "cell_type": "code",
   "execution_count": 130,
   "metadata": {
    "collapsed": false
   },
   "outputs": [],
   "source": [
    "text_val = data_val['Content']\n",
    "reviewID_val = data_val['ReviewID']"
   ]
  },
  {
   "cell_type": "code",
   "execution_count": 131,
   "metadata": {
    "collapsed": false
   },
   "outputs": [
    {
     "data": {
      "text/plain": [
       "5"
      ]
     },
     "execution_count": 131,
     "metadata": {},
     "output_type": "execute_result"
    }
   ],
   "source": [
    "# Pre-Process Text (Remove Punc, Remove Stopwords Std.)\n",
    "tokens_val = [clean_words(i) for i in text_val]\n",
    "len(tokens_val)"
   ]
  },
  {
   "cell_type": "code",
   "execution_count": 132,
   "metadata": {
    "collapsed": false
   },
   "outputs": [
    {
     "data": {
      "text/plain": [
       "5"
      ]
     },
     "execution_count": 132,
     "metadata": {},
     "output_type": "execute_result"
    }
   ],
   "source": [
    "# Create Bigrams and Add to List\n",
    "bigrams_val = create_bigram(text_val)\n",
    "len(bigrams_val)"
   ]
  },
  {
   "cell_type": "code",
   "execution_count": 133,
   "metadata": {
    "collapsed": false
   },
   "outputs": [
    {
     "data": {
      "text/plain": [
       "5"
      ]
     },
     "execution_count": 133,
     "metadata": {},
     "output_type": "execute_result"
    }
   ],
   "source": [
    "ngrams_val = []\n",
    "for i in range(0,len(tokens_val)):\n",
    "    ngrams_val.append(bigrams_val[i] + tokens_val[i])\n",
    "len(ngrams_val)"
   ]
  },
  {
   "cell_type": "code",
   "execution_count": 134,
   "metadata": {
    "collapsed": false
   },
   "outputs": [],
   "source": [
    "# tokens_val[0]\n",
    "# Make Dictionary of Dictionaries for Validation Set\n",
    "doc_TF_val = {}\n",
    "for i in range(0,len(tokens_val)):\n",
    "    doc_TF_val[reviewID_val.iloc[i]] = create_countVectors(tokens_val[i])\n",
    "    # doc_TF_all['doc0'].keys()"
   ]
  },
  {
   "cell_type": "code",
   "execution_count": 135,
   "metadata": {
    "collapsed": true
   },
   "outputs": [],
   "source": [
    "# Make Dictionary of Dictionaries for Test Set\n",
    "doc_TF_test = {}\n",
    "for i in range(0,len(tokens_test)):\n",
    "    doc_TF_test[reviewID_test.iloc[i]] = create_countVectors(tokens_test[i])\n",
    "    # doc_TF_all['doc0'].keys()"
   ]
  },
  {
   "cell_type": "code",
   "execution_count": 136,
   "metadata": {
    "collapsed": false
   },
   "outputs": [
    {
     "data": {
      "text/plain": [
       "19801"
      ]
     },
     "execution_count": 136,
     "metadata": {},
     "output_type": "execute_result"
    }
   ],
   "source": [
    "len(doc_TF_test)"
   ]
  },
  {
   "cell_type": "code",
   "execution_count": null,
   "metadata": {
    "collapsed": false
   },
   "outputs": [],
   "source": [
    "review = '1234567890123'\n",
    "doc_TF_val[review].keys()\n",
    "#DF['salmon']\n",
    "TF_scaled_val[review]"
   ]
  },
  {
   "cell_type": "code",
   "execution_count": 150,
   "metadata": {
    "collapsed": false
   },
   "outputs": [],
   "source": [
    "# Calculate TF with Sub-linear TF scaling\n",
    "TF_scaled_val = {}\n",
    "for review in doc_TF_val.keys():\n",
    "    TF_scaled_val[review] = {}\n",
    "    for key in doc_TF_val[review].keys():\n",
    "        TF_scaled_val[review][key] = (1 + math.log(doc_TF_val[review][key]))"
   ]
  },
  {
   "cell_type": "code",
   "execution_count": 152,
   "metadata": {
    "collapsed": false
   },
   "outputs": [],
   "source": [
    "# Calculate TF-IDF\n",
    "scaled_val = {}\n",
    "for review in doc_TF_val.keys():\n",
    "    scaled_val[review] = {}\n",
    "    for key in doc_TF_val[review].keys():\n",
    "        if key in DF_trainF.keys():\n",
    "            scaled_val[review][key] = TF_scaled_val[review][key] * (1 + math.log((n_doc/DF_trainF[key])))\n",
    "        else:\n",
    "            scaled_val[review][key] = TF_scaled_val[review][key]"
   ]
  },
  {
   "cell_type": "code",
   "execution_count": 153,
   "metadata": {
    "collapsed": true
   },
   "outputs": [],
   "source": [
    "# Calculate TF with Sub-linear TF scaling for Test Documents\n",
    "TF_scaled_test = {}\n",
    "for review in doc_TF_test.keys():\n",
    "    TF_scaled_test[review] = {}\n",
    "    for key in doc_TF_test[review].keys():\n",
    "        TF_scaled_test[review][key] = (1 + math.log(doc_TF_test[review][key]))"
   ]
  },
  {
   "cell_type": "code",
   "execution_count": 154,
   "metadata": {
    "collapsed": true
   },
   "outputs": [],
   "source": [
    "# Calculate TF-IDF\n",
    "scaled_test = {}\n",
    "for review in doc_TF_test.keys():\n",
    "    scaled_test[review] = {}\n",
    "    for key in doc_TF_test[review].keys():\n",
    "        if key in DF_trainF.keys():\n",
    "            scaled_test[review][key] = TF_scaled_test[review][key] * (1 + math.log((n_doc/DF_trainF[key])))\n",
    "        else:\n",
    "            scaled_test[review][key] = TF_scaled_test[review][key]"
   ]
  },
  {
   "cell_type": "code",
   "execution_count": null,
   "metadata": {
    "collapsed": false
   },
   "outputs": [],
   "source": [
    "doc_TF_DF = pd.DataFrame.from_dict(doc_TF_val, orient = 'index')\n",
    "doc_TF_DF"
   ]
  },
  {
   "cell_type": "code",
   "execution_count": null,
   "metadata": {
    "collapsed": false
   },
   "outputs": [],
   "source": [
    "# Calculate IDF\n",
    "IDF_scaled_val = {}\n",
    "for review in doc_TF_val.keys():\n",
    "    TF_scaled_val[review] = {}\n",
    "    for key in doc_TF_val[review]:\n",
    "        TF_scaled_val[review][key] = 1 + math.log(doc_TF_val[review][key])"
   ]
  },
  {
   "cell_type": "code",
   "execution_count": null,
   "metadata": {
    "collapsed": true
   },
   "outputs": [],
   "source": [
    "IDF = 1 + math.log((n_doc/DF_trainF[key]))"
   ]
  },
  {
   "cell_type": "code",
   "execution_count": 164,
   "metadata": {
    "collapsed": false
   },
   "outputs": [],
   "source": [
    "toPrint = pd.DataFrame.from_dict(scaled_val)\n",
    "toPrint.to_csv(\"spotCheck.csv\")"
   ]
  },
  {
   "cell_type": "code",
   "execution_count": null,
   "metadata": {
    "collapsed": false
   },
   "outputs": [],
   "source": [
    "# Read in Validation Data Set - Query.Json\n",
    "data_val = load_json(['query.json'],'yelp/')"
   ]
  },
  {
   "cell_type": "code",
   "execution_count": null,
   "metadata": {
    "collapsed": true
   },
   "outputs": [],
   "source": [
    "# Compute Cosine Similarity as Matrix? Reviews by Reviews\n",
    "doc1 = doc_TF_val['1234567890123']\n",
    "doc2 = doc_TF_val['C0XcD26vEKq0qiXddRG0uA']"
   ]
  },
  {
   "cell_type": "code",
   "execution_count": null,
   "metadata": {
    "collapsed": false
   },
   "outputs": [],
   "source": [
    "len(doc2)"
   ]
  },
  {
   "cell_type": "code",
   "execution_count": null,
   "metadata": {
    "collapsed": false
   },
   "outputs": [],
   "source": [
    "keys = ['q','w','e']\n",
    "\n",
    "a = ['q','w', 'w']\n",
    "b = ['q','w']\n",
    "c = ['q','w','e']\n",
    "docs = [a,b,c]\n",
    "DF = {}\n",
    "for term in keys:\n",
    "    count = 0\n",
    "    for i in range(0,3):\n",
    "        if term in set(docs[i]):\n",
    "            count = count + 1\n",
    "    DF[term] = count"
   ]
  },
  {
   "cell_type": "code",
   "execution_count": 194,
   "metadata": {
    "collapsed": false
   },
   "outputs": [
    {
     "data": {
      "text/plain": [
       "1466    !!!!!!!!\n",
       "Name: Content, dtype: object"
      ]
     },
     "execution_count": 194,
     "metadata": {},
     "output_type": "execute_result"
    }
   ],
   "source": [
    "text_test[reviewID_test == \"VOYaV7BNSAyKYcNsI7yeAA\"]"
   ]
  },
  {
   "cell_type": "code",
   "execution_count": 193,
   "metadata": {
    "collapsed": false
   },
   "outputs": [
    {
     "data": {
      "text/plain": [
       "'TyMMMkZw7yODteAS-ttO8A'"
      ]
     },
     "execution_count": 193,
     "metadata": {},
     "output_type": "execute_result"
    }
   ],
   "source": [
    "reviewID_test.iloc[1466]"
   ]
  },
  {
   "cell_type": "code",
   "execution_count": null,
   "metadata": {
    "collapsed": false
   },
   "outputs": [],
   "source": [
    "doc1 = doc_TF_val['1234567890123']\n",
    "doc2 = doc_TF_val['C0XcD26vEKq0qiXddRG0uA']"
   ]
  },
  {
   "cell_type": "markdown",
   "metadata": {},
   "source": [
    "### 1. Implementation of cosine similarity computation"
   ]
  },
  {
   "cell_type": "code",
   "execution_count": 155,
   "metadata": {
    "collapsed": false
   },
   "outputs": [],
   "source": [
    "# Calculates the Norm of Doc1 Vector\n",
    "def calc_norm(vecDict):\n",
    "    norm = 0\n",
    "    for value in vecDict.values():\n",
    "        #print(key, value)\n",
    "        norm = norm + value**2\n",
    "        #print(tot)\n",
    "    norm = math.sqrt(norm)\n",
    "    return norm"
   ]
  },
  {
   "cell_type": "code",
   "execution_count": 156,
   "metadata": {
    "collapsed": false
   },
   "outputs": [],
   "source": [
    "# Check if 2 docs have any words in common (Intersection), if not Dot Product = 0\n",
    "# Calculate Dot Product for only common words\n",
    "def calc_dotProd(vecDict1,vecDict2):\n",
    "    totDot = 0\n",
    "    comWords = set(vecDict1.keys() & vecDict2.keys())\n",
    "    for word in comWords:\n",
    "        vec1_count = vecDict1[word]\n",
    "        vec2_count = vecDict2[word]\n",
    "        totDot = totDot + (vec1_count * vec2_count)\n",
    "    return totDot"
   ]
  },
  {
   "cell_type": "code",
   "execution_count": 157,
   "metadata": {
    "collapsed": false
   },
   "outputs": [],
   "source": [
    "# Calculate Cosine Distance\n",
    "def calc_cosineDist(vecDict1,vecDict2):\n",
    "    dist = calc_dotProd(vecDict1,vecDict2)/(calc_norm(vecDict1) * calc_norm(vecDict2))\n",
    "    return dist"
   ]
  },
  {
   "cell_type": "code",
   "execution_count": 158,
   "metadata": {
    "collapsed": false
   },
   "outputs": [],
   "source": [
    "# Create Empty Dataframe to Hold Cosine Values\n",
    "DF = pd.DataFrame(index = reviewID_test, columns = reviewID_val)"
   ]
  },
  {
   "cell_type": "code",
   "execution_count": null,
   "metadata": {
    "collapsed": false
   },
   "outputs": [],
   "source": [
    "# Calculate all Cosine Distances (Complete Matrix)\n",
    "for review_val in reviewID_val:\n",
    "    for review_test in reviewID_test:\n",
    "        print(review_val, \" - \",review_test)\n",
    "        try:\n",
    "            DF.ix[review_test, review_val] = calc_cosineDist(scaled_val[review_val], scaled_test[review_test])\n",
    "        except ZeroDivisionError:\n",
    "            DF.ix[review_test, review_val] = 0\n",
    "            continue"
   ]
  },
  {
   "cell_type": "code",
   "execution_count": 198,
   "metadata": {
    "collapsed": false
   },
   "outputs": [
    {
     "data": {
      "text/plain": [
       "0.0648437705872402"
      ]
     },
     "execution_count": 198,
     "metadata": {},
     "output_type": "execute_result"
    }
   ],
   "source": [
    "DF.ix[0,0]"
   ]
  },
  {
   "cell_type": "markdown",
   "metadata": {},
   "source": [
    "### 2. Top 3 most similar review documents "
   ]
  },
  {
   "cell_type": "code",
   "execution_count": 286,
   "metadata": {
    "collapsed": false
   },
   "outputs": [
    {
     "name": "stdout",
     "output_type": "stream",
     "text": [
      "Validation Review #C0XcD26vEKq0qiXddRG0uAis most similar to: \n"
     ]
    },
    {
     "data": {
      "text/html": [
       "<div>\n",
       "<table border=\"1\" class=\"dataframe\">\n",
       "  <thead>\n",
       "    <tr style=\"text-align: right;\">\n",
       "      <th></th>\n",
       "      <th>Author</th>\n",
       "      <th>Author_Location</th>\n",
       "      <th>Content</th>\n",
       "      <th>Date</th>\n",
       "      <th>Overall</th>\n",
       "      <th>ReviewID</th>\n",
       "      <th>Cosine Dist</th>\n",
       "    </tr>\n",
       "  </thead>\n",
       "  <tbody>\n",
       "    <tr>\n",
       "      <th>39</th>\n",
       "      <td>Cassie V.</td>\n",
       "      <td>Chicago, IL</td>\n",
       "      <td>Ahhh tapas, the small plates that contain indi...</td>\n",
       "      <td>2014-05-20</td>\n",
       "      <td>4.0</td>\n",
       "      <td>C0XcD26vEKq0qiXddRG0uA</td>\n",
       "      <td>1</td>\n",
       "    </tr>\n",
       "    <tr>\n",
       "      <th>1033</th>\n",
       "      <td>Elizabeth A.</td>\n",
       "      <td>Chicago, IL</td>\n",
       "      <td>First off, I am giving 4 stars because I think...</td>\n",
       "      <td>2011-10-25</td>\n",
       "      <td>4.0</td>\n",
       "      <td>CbMVsaLzVEC5iMNLuDumsg</td>\n",
       "      <td>0.410175</td>\n",
       "    </tr>\n",
       "    <tr>\n",
       "      <th>1829</th>\n",
       "      <td>Steve R.</td>\n",
       "      <td>Skokie, IL</td>\n",
       "      <td>Great Tapas.  The Sangria was very nice.  Serv...</td>\n",
       "      <td>2011-10-17</td>\n",
       "      <td>4.0</td>\n",
       "      <td>8V5jppyc_HuM_9Dq7KFmGg</td>\n",
       "      <td>0.3856752</td>\n",
       "    </tr>\n",
       "  </tbody>\n",
       "</table>\n",
       "</div>"
      ],
      "text/plain": [
       "            Author Author_Location  \\\n",
       "39       Cassie V.     Chicago, IL   \n",
       "1033  Elizabeth A.     Chicago, IL   \n",
       "1829      Steve R.      Skokie, IL   \n",
       "\n",
       "                                                Content        Date Overall  \\\n",
       "39    Ahhh tapas, the small plates that contain indi...  2014-05-20     4.0   \n",
       "1033  First off, I am giving 4 stars because I think...  2011-10-25     4.0   \n",
       "1829  Great Tapas.  The Sangria was very nice.  Serv...  2011-10-17     4.0   \n",
       "\n",
       "                    ReviewID Cosine Dist  \n",
       "39    C0XcD26vEKq0qiXddRG0uA           1  \n",
       "1033  CbMVsaLzVEC5iMNLuDumsg    0.410175  \n",
       "1829  8V5jppyc_HuM_9Dq7KFmGg   0.3856752  "
      ]
     },
     "metadata": {},
     "output_type": "display_data"
    },
    {
     "name": "stdout",
     "output_type": "stream",
     "text": [
      "Validation Review #12345678901is most similar to: \n"
     ]
    },
    {
     "data": {
      "text/html": [
       "<div>\n",
       "<table border=\"1\" class=\"dataframe\">\n",
       "  <thead>\n",
       "    <tr style=\"text-align: right;\">\n",
       "      <th></th>\n",
       "      <th>Author</th>\n",
       "      <th>Author_Location</th>\n",
       "      <th>Content</th>\n",
       "      <th>Date</th>\n",
       "      <th>Overall</th>\n",
       "      <th>ReviewID</th>\n",
       "      <th>Cosine Dist</th>\n",
       "    </tr>\n",
       "  </thead>\n",
       "  <tbody>\n",
       "    <tr>\n",
       "      <th>532</th>\n",
       "      <td>Annie D.</td>\n",
       "      <td>Chicago, IL</td>\n",
       "      <td>Oh, yum. I had a wonderful meal here last week...</td>\n",
       "      <td>2011-10-17</td>\n",
       "      <td>4.0</td>\n",
       "      <td>fmX9HCcwLMpuw94TkTJynw</td>\n",
       "      <td>0.2509326</td>\n",
       "    </tr>\n",
       "    <tr>\n",
       "      <th>986</th>\n",
       "      <td>Ashley K.</td>\n",
       "      <td>Chicago, IL</td>\n",
       "      <td>I've been waiting for some time to finally mak...</td>\n",
       "      <td>2011-11-02</td>\n",
       "      <td>4.0</td>\n",
       "      <td>CnihcVy_LFY0kz3K2Fmskw</td>\n",
       "      <td>0.2430643</td>\n",
       "    </tr>\n",
       "    <tr>\n",
       "      <th>1208</th>\n",
       "      <td>Meg E.</td>\n",
       "      <td>Chicago, IL</td>\n",
       "      <td>pretty damn good. the service was not up to my...</td>\n",
       "      <td>2011-10-10</td>\n",
       "      <td>4.0</td>\n",
       "      <td>GOAFFOfllmjltJXfLSy5sQ</td>\n",
       "      <td>0.239819</td>\n",
       "    </tr>\n",
       "  </tbody>\n",
       "</table>\n",
       "</div>"
      ],
      "text/plain": [
       "         Author Author_Location  \\\n",
       "532    Annie D.     Chicago, IL   \n",
       "986   Ashley K.     Chicago, IL   \n",
       "1208     Meg E.     Chicago, IL   \n",
       "\n",
       "                                                Content        Date Overall  \\\n",
       "532   Oh, yum. I had a wonderful meal here last week...  2011-10-17     4.0   \n",
       "986   I've been waiting for some time to finally mak...  2011-11-02     4.0   \n",
       "1208  pretty damn good. the service was not up to my...  2011-10-10     4.0   \n",
       "\n",
       "                    ReviewID Cosine Dist  \n",
       "532   fmX9HCcwLMpuw94TkTJynw   0.2509326  \n",
       "986   CnihcVy_LFY0kz3K2Fmskw   0.2430643  \n",
       "1208  GOAFFOfllmjltJXfLSy5sQ    0.239819  "
      ]
     },
     "metadata": {},
     "output_type": "display_data"
    },
    {
     "name": "stdout",
     "output_type": "stream",
     "text": [
      "Validation Review #123456789012is most similar to: \n"
     ]
    },
    {
     "data": {
      "text/html": [
       "<div>\n",
       "<table border=\"1\" class=\"dataframe\">\n",
       "  <thead>\n",
       "    <tr style=\"text-align: right;\">\n",
       "      <th></th>\n",
       "      <th>Author</th>\n",
       "      <th>Author_Location</th>\n",
       "      <th>Content</th>\n",
       "      <th>Date</th>\n",
       "      <th>Overall</th>\n",
       "      <th>ReviewID</th>\n",
       "      <th>Cosine Dist</th>\n",
       "    </tr>\n",
       "  </thead>\n",
       "  <tbody>\n",
       "    <tr>\n",
       "      <th>702</th>\n",
       "      <td>Jacob K.</td>\n",
       "      <td>Chicago, IL</td>\n",
       "      <td>I went here at the insistence of a friend to f...</td>\n",
       "      <td>2011-08-05</td>\n",
       "      <td>2.0</td>\n",
       "      <td>P-mgRIsQNSFZU2URLIGfag</td>\n",
       "      <td>0.3421191</td>\n",
       "    </tr>\n",
       "    <tr>\n",
       "      <th>1594</th>\n",
       "      <td>Sharad K.</td>\n",
       "      <td>Jersey City, NJ</td>\n",
       "      <td>The best tacos you'll ever have.</td>\n",
       "      <td>2011-07-04</td>\n",
       "      <td>5.0</td>\n",
       "      <td>dahkJE2VmmwB3A-JIh9AFQ</td>\n",
       "      <td>0.3260673</td>\n",
       "    </tr>\n",
       "    <tr>\n",
       "      <th>1825</th>\n",
       "      <td>Julie S.</td>\n",
       "      <td>Chicago, IL</td>\n",
       "      <td>pork with pineapple taco and tilapia taco were...</td>\n",
       "      <td>2011-10-15</td>\n",
       "      <td>4.0</td>\n",
       "      <td>zljALNSXSYwBTYCQ8zzc3Q</td>\n",
       "      <td>0.3220851</td>\n",
       "    </tr>\n",
       "  </tbody>\n",
       "</table>\n",
       "</div>"
      ],
      "text/plain": [
       "         Author  Author_Location  \\\n",
       "702    Jacob K.      Chicago, IL   \n",
       "1594  Sharad K.  Jersey City, NJ   \n",
       "1825   Julie S.      Chicago, IL   \n",
       "\n",
       "                                                Content        Date Overall  \\\n",
       "702   I went here at the insistence of a friend to f...  2011-08-05     2.0   \n",
       "1594                   The best tacos you'll ever have.  2011-07-04     5.0   \n",
       "1825  pork with pineapple taco and tilapia taco were...  2011-10-15     4.0   \n",
       "\n",
       "                    ReviewID Cosine Dist  \n",
       "702   P-mgRIsQNSFZU2URLIGfag   0.3421191  \n",
       "1594  dahkJE2VmmwB3A-JIh9AFQ   0.3260673  \n",
       "1825  zljALNSXSYwBTYCQ8zzc3Q   0.3220851  "
      ]
     },
     "metadata": {},
     "output_type": "display_data"
    },
    {
     "name": "stdout",
     "output_type": "stream",
     "text": [
      "Validation Review #1234567890123is most similar to: \n"
     ]
    },
    {
     "data": {
      "text/html": [
       "<div>\n",
       "<table border=\"1\" class=\"dataframe\">\n",
       "  <thead>\n",
       "    <tr style=\"text-align: right;\">\n",
       "      <th></th>\n",
       "      <th>Author</th>\n",
       "      <th>Author_Location</th>\n",
       "      <th>Content</th>\n",
       "      <th>Date</th>\n",
       "      <th>Overall</th>\n",
       "      <th>ReviewID</th>\n",
       "      <th>Cosine Dist</th>\n",
       "    </tr>\n",
       "  </thead>\n",
       "  <tbody>\n",
       "    <tr>\n",
       "      <th>552</th>\n",
       "      <td>Gloria H.</td>\n",
       "      <td>San Francisco, CA</td>\n",
       "      <td>Had dinner there but probably should have trie...</td>\n",
       "      <td>2007-07-11</td>\n",
       "      <td>3.0</td>\n",
       "      <td>bvF17yVPs5DSre_xm4_2iA</td>\n",
       "      <td>0.2527061</td>\n",
       "    </tr>\n",
       "    <tr>\n",
       "      <th>222</th>\n",
       "      <td>Angela H.</td>\n",
       "      <td>Berkeley, CA</td>\n",
       "      <td>Alinea may as well be called \"Alien-a\" because...</td>\n",
       "      <td>2011-03-19</td>\n",
       "      <td>5.0</td>\n",
       "      <td>TTceZdnesmTC3HkLZ_wmkA</td>\n",
       "      <td>0.2407626</td>\n",
       "    </tr>\n",
       "    <tr>\n",
       "      <th>841</th>\n",
       "      <td>Swarup B.</td>\n",
       "      <td>San Francisco, CA</td>\n",
       "      <td>best.dining.experience.ever.the service was ex...</td>\n",
       "      <td>2009-09-17</td>\n",
       "      <td>5.0</td>\n",
       "      <td>4tCrRDiGCmdSwjvXfyv7FQ</td>\n",
       "      <td>0.2223582</td>\n",
       "    </tr>\n",
       "  </tbody>\n",
       "</table>\n",
       "</div>"
      ],
      "text/plain": [
       "        Author    Author_Location  \\\n",
       "552  Gloria H.  San Francisco, CA   \n",
       "222  Angela H.       Berkeley, CA   \n",
       "841  Swarup B.  San Francisco, CA   \n",
       "\n",
       "                                               Content        Date Overall  \\\n",
       "552  Had dinner there but probably should have trie...  2007-07-11     3.0   \n",
       "222  Alinea may as well be called \"Alien-a\" because...  2011-03-19     5.0   \n",
       "841  best.dining.experience.ever.the service was ex...  2009-09-17     5.0   \n",
       "\n",
       "                   ReviewID Cosine Dist  \n",
       "552  bvF17yVPs5DSre_xm4_2iA   0.2527061  \n",
       "222  TTceZdnesmTC3HkLZ_wmkA   0.2407626  \n",
       "841  4tCrRDiGCmdSwjvXfyv7FQ   0.2223582  "
      ]
     },
     "metadata": {},
     "output_type": "display_data"
    },
    {
     "name": "stdout",
     "output_type": "stream",
     "text": [
      "Validation Review #12345678901234is most similar to: \n"
     ]
    },
    {
     "data": {
      "text/html": [
       "<div>\n",
       "<table border=\"1\" class=\"dataframe\">\n",
       "  <thead>\n",
       "    <tr style=\"text-align: right;\">\n",
       "      <th></th>\n",
       "      <th>Author</th>\n",
       "      <th>Author_Location</th>\n",
       "      <th>Content</th>\n",
       "      <th>Date</th>\n",
       "      <th>Overall</th>\n",
       "      <th>ReviewID</th>\n",
       "      <th>Cosine Dist</th>\n",
       "    </tr>\n",
       "  </thead>\n",
       "  <tbody>\n",
       "    <tr>\n",
       "      <th>201</th>\n",
       "      <td>Oluwatope F.</td>\n",
       "      <td>Rancho Cucamonga, CA</td>\n",
       "      <td>Good just expensive. We got carry out so that ...</td>\n",
       "      <td>2014-04-23</td>\n",
       "      <td>4.0</td>\n",
       "      <td>oeA78yFEk-XhiOuqqfnLfA</td>\n",
       "      <td>0.4145494</td>\n",
       "    </tr>\n",
       "    <tr>\n",
       "      <th>1940</th>\n",
       "      <td>Erica I.</td>\n",
       "      <td>Chicago, IL</td>\n",
       "      <td>The mac and cheese and peach cobbler were the ...</td>\n",
       "      <td>2011-12-03</td>\n",
       "      <td>4.0</td>\n",
       "      <td>n3ijOZ4PMH6Nh7gZOpy91g</td>\n",
       "      <td>0.4123808</td>\n",
       "    </tr>\n",
       "    <tr>\n",
       "      <th>2251</th>\n",
       "      <td>Greg W.</td>\n",
       "      <td>Chicago, IL</td>\n",
       "      <td>Smoque BBQ has excellent food!  The ribs, chic...</td>\n",
       "      <td>2011-07-09</td>\n",
       "      <td>5.0</td>\n",
       "      <td>gtTf9HRpBG0psMoXpKHc5g</td>\n",
       "      <td>0.3877515</td>\n",
       "    </tr>\n",
       "  </tbody>\n",
       "</table>\n",
       "</div>"
      ],
      "text/plain": [
       "            Author       Author_Location  \\\n",
       "201   Oluwatope F.  Rancho Cucamonga, CA   \n",
       "1940      Erica I.           Chicago, IL   \n",
       "2251       Greg W.           Chicago, IL   \n",
       "\n",
       "                                                Content        Date Overall  \\\n",
       "201   Good just expensive. We got carry out so that ...  2014-04-23     4.0   \n",
       "1940  The mac and cheese and peach cobbler were the ...  2011-12-03     4.0   \n",
       "2251  Smoque BBQ has excellent food!  The ribs, chic...  2011-07-09     5.0   \n",
       "\n",
       "                    ReviewID Cosine Dist  \n",
       "201   oeA78yFEk-XhiOuqqfnLfA   0.4145494  \n",
       "1940  n3ijOZ4PMH6Nh7gZOpy91g   0.4123808  \n",
       "2251  gtTf9HRpBG0psMoXpKHc5g   0.3877515  "
      ]
     },
     "metadata": {},
     "output_type": "display_data"
    }
   ],
   "source": [
    "for i in reviewID_val:\n",
    "    sortedDF = DF.sort(i, ascending = False)\n",
    "    top3_reviewIDs = sortedDF.ix[0:3,i].index.values\n",
    "    top3_dist = sortedDF.ix[0:3,i].values\n",
    "    top3_data_subset = dataDF_test.loc[dataDF_test['ReviewID'].isin(top3_reviewIDs),:]\n",
    "    top3_data_subset['Cosine Dist'] = top3_dist\n",
    "    print(\"Validation Review #\"+i  + \"is most similar to: \")\n",
    "    display(top3_data_subset)\n",
    "    top3_data_subset['Content'].to_csv(\"top3\"+i+\".csv\")"
   ]
  },
  {
   "cell_type": "markdown",
   "metadata": {},
   "source": [
    "### 3. What type of restaurants are specified in the query.json file (e.g., Indian food or Korean food)?"
   ]
  },
  {
   "cell_type": "markdown",
   "metadata": {},
   "source": [
    "A: The Restaurants in the Validation Set seem likely from a seafood restaurants, mostly specializing in food like Lobster rolls, oysters, and clams, etc."
   ]
  }
 ],
 "metadata": {
  "kernelspec": {
   "display_name": "Python 3",
   "language": "python",
   "name": "python3"
  },
  "language_info": {
   "codemirror_mode": {
    "name": "ipython",
    "version": 3
   },
   "file_extension": ".py",
   "mimetype": "text/x-python",
   "name": "python",
   "nbconvert_exporter": "python",
   "pygments_lexer": "ipython3",
   "version": "3.4.4"
  }
 },
 "nbformat": 4,
 "nbformat_minor": 0
}
